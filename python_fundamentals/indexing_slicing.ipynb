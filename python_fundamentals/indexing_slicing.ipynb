{
 "cells": [
  {
   "cell_type": "code",
   "execution_count": 3,
   "id": "bace1315-b68a-4a30-bf56-b321d9d41229",
   "metadata": {},
   "outputs": [
    {
     "data": {
      "text/plain": [
       "10.01"
      ]
     },
     "execution_count": 3,
     "metadata": {},
     "output_type": "execute_result"
    }
   ],
   "source": [
    "#index \n",
    "alist = [4, 6, 2, -6, 'query', 10.01]\n",
    "\n",
    "alist[-1]"
   ]
  },
  {
   "cell_type": "code",
   "execution_count": 4,
   "id": "3a8d9ae4-833f-4989-ae69-8019f4a3f62a",
   "metadata": {},
   "outputs": [
    {
     "data": {
      "text/plain": [
       "[10, 20, 30]"
      ]
     },
     "execution_count": 4,
     "metadata": {},
     "output_type": "execute_result"
    }
   ],
   "source": [
    "#index \n",
    "alist = [4, 6, 2, -6, [10, 20, 30], 10.01]\n",
    "\n",
    "alist[4]"
   ]
  },
  {
   "cell_type": "code",
   "execution_count": 5,
   "id": "f978a82f-7780-4244-9ffd-624bbf58f87f",
   "metadata": {},
   "outputs": [
    {
     "data": {
      "text/plain": [
       "20"
      ]
     },
     "execution_count": 5,
     "metadata": {},
     "output_type": "execute_result"
    }
   ],
   "source": [
    "alist[4][1]"
   ]
  },
  {
   "cell_type": "code",
   "execution_count": 16,
   "id": "87b8f42f-4add-4924-a8e5-4d7f8c7974f7",
   "metadata": {},
   "outputs": [
    {
     "data": {
      "text/plain": [
       "{'Squirrel': 'cute', 'Penguin': 'Yummy'}"
      ]
     },
     "execution_count": 16,
     "metadata": {},
     "output_type": "execute_result"
    }
   ],
   "source": [
    "# Exercise!\n",
    "\n",
    "listlist = [4, 'hi', [5, 4, 3], 'yo', {'Squirrel':'cute', 'Penguin':'Yummy'}]\n",
    "\n",
    "# get the attribute of Penguin from this list\n",
    "\n",
    "listlist[-1]"
   ]
  },
  {
   "cell_type": "code",
   "execution_count": 23,
   "id": "276b1c43-ac74-4eae-b1cd-09af3ab1aa3e",
   "metadata": {},
   "outputs": [
    {
     "data": {
      "text/plain": [
       "dict_keys(['Squirrel', 'Penguin'])"
      ]
     },
     "execution_count": 23,
     "metadata": {},
     "output_type": "execute_result"
    }
   ],
   "source": [
    "listlist[-1].keys()"
   ]
  },
  {
   "cell_type": "code",
   "execution_count": 44,
   "id": "ad3e1672-dc33-4edf-ac95-04ce258f100d",
   "metadata": {},
   "outputs": [],
   "source": [
    "# Slicing\n",
    "\n",
    "a = range(1, 30)"
   ]
  },
  {
   "cell_type": "code",
   "execution_count": 25,
   "id": "4553d6eb-a5aa-42b9-b6f5-976a265ed786",
   "metadata": {},
   "outputs": [
    {
     "data": {
      "text/plain": [
       "range"
      ]
     },
     "execution_count": 25,
     "metadata": {},
     "output_type": "execute_result"
    }
   ],
   "source": [
    "type(a)"
   ]
  },
  {
   "cell_type": "code",
   "execution_count": 45,
   "id": "15dfc40b-cb17-4f49-a33f-04cd247e5929",
   "metadata": {},
   "outputs": [],
   "source": [
    "b = list(a)"
   ]
  },
  {
   "cell_type": "code",
   "execution_count": 35,
   "id": "e4b91f2b-69b5-45ef-a0ac-b9b09c6e7ead",
   "metadata": {},
   "outputs": [
    {
     "data": {
      "text/plain": [
       "[5, 6, 7, 8, 9, 10]"
      ]
     },
     "execution_count": 35,
     "metadata": {},
     "output_type": "execute_result"
    }
   ],
   "source": [
    "b\n"
   ]
  },
  {
   "cell_type": "code",
   "execution_count": 39,
   "id": "eb1a0614-9929-40bc-b645-0dac6b35ecef",
   "metadata": {},
   "outputs": [
    {
     "data": {
      "text/plain": [
       "[7, 8]"
      ]
     },
     "execution_count": 39,
     "metadata": {},
     "output_type": "execute_result"
    }
   ],
   "source": [
    "b[2:4]"
   ]
  },
  {
   "cell_type": "code",
   "execution_count": 50,
   "id": "6e6010a8-70c6-43c2-ae0b-901a4325c47c",
   "metadata": {},
   "outputs": [
    {
     "data": {
      "text/plain": [
       "[1, 3, 5, 7, 9, 11, 13, 15, 17, 19, 21, 23, 25, 27, 29]"
      ]
     },
     "execution_count": 50,
     "metadata": {},
     "output_type": "execute_result"
    }
   ],
   "source": [
    "# my_list[start:stop:step]\n",
    "\n",
    "# Odd Numbers\n",
    "b[::2]"
   ]
  },
  {
   "cell_type": "code",
   "execution_count": 51,
   "id": "acecdcf7-53f8-4511-894c-b1f7de16631a",
   "metadata": {},
   "outputs": [
    {
     "data": {
      "text/plain": [
       "[3, 5, 7, 9, 11, 13, 15, 17, 19, 21, 23, 25, 27, 29]"
      ]
     },
     "execution_count": 51,
     "metadata": {},
     "output_type": "execute_result"
    }
   ],
   "source": [
    "# Even Numbers\n",
    "b[2::2]"
   ]
  },
  {
   "cell_type": "code",
   "execution_count": 52,
   "id": "83564014-1e1d-4644-8732-b42c607adca9",
   "metadata": {},
   "outputs": [],
   "source": [
    "# Table of 3"
   ]
  },
  {
   "cell_type": "code",
   "execution_count": 54,
   "id": "38fe0290-540a-463a-8cdf-f36a8d6160e7",
   "metadata": {},
   "outputs": [
    {
     "data": {
      "text/plain": [
       "[3, 6, 9, 12, 15, 18, 21, 24, 27]"
      ]
     },
     "execution_count": 54,
     "metadata": {},
     "output_type": "execute_result"
    }
   ],
   "source": [
    "b[2::3]"
   ]
  },
  {
   "cell_type": "code",
   "execution_count": 55,
   "id": "3943d499-c8ff-4d6d-bc61-92dba15dd080",
   "metadata": {},
   "outputs": [
    {
     "data": {
      "text/plain": [
       "[29,\n",
       " 28,\n",
       " 27,\n",
       " 26,\n",
       " 25,\n",
       " 24,\n",
       " 23,\n",
       " 22,\n",
       " 21,\n",
       " 20,\n",
       " 19,\n",
       " 18,\n",
       " 17,\n",
       " 16,\n",
       " 15,\n",
       " 14,\n",
       " 13,\n",
       " 12,\n",
       " 11,\n",
       " 10,\n",
       " 9,\n",
       " 8,\n",
       " 7,\n",
       " 6,\n",
       " 5,\n",
       " 4,\n",
       " 3,\n",
       " 2,\n",
       " 1]"
      ]
     },
     "execution_count": 55,
     "metadata": {},
     "output_type": "execute_result"
    }
   ],
   "source": [
    "# Reverse a list\n",
    "\n",
    "b[::-1]"
   ]
  },
  {
   "cell_type": "code",
   "execution_count": 59,
   "id": "a4b655b0-6b60-4701-9414-222470b93163",
   "metadata": {},
   "outputs": [
    {
     "data": {
      "text/plain": [
       "'Jitendra is a nice guy'"
      ]
     },
     "execution_count": 59,
     "metadata": {},
     "output_type": "execute_result"
    }
   ],
   "source": [
    "# Exercise\n",
    "text = '345dfyug ecin a si ardnetiJ 93845d'\n",
    "\n",
    "# Use slicing to write \"Jitendra is a nice guy\" from the 'text'\n",
    "\n",
    "text[5:-7][::-1]"
   ]
  },
  {
   "cell_type": "code",
   "execution_count": null,
   "id": "b7245812-7340-44a7-91cf-f95d3047820a",
   "metadata": {},
   "outputs": [],
   "source": []
  }
 ],
 "metadata": {
  "kernelspec": {
   "display_name": "Python 3 (ipykernel)",
   "language": "python",
   "name": "python3"
  },
  "language_info": {
   "codemirror_mode": {
    "name": "ipython",
    "version": 3
   },
   "file_extension": ".py",
   "mimetype": "text/x-python",
   "name": "python",
   "nbconvert_exporter": "python",
   "pygments_lexer": "ipython3",
   "version": "3.11.14"
  }
 },
 "nbformat": 4,
 "nbformat_minor": 5
}
