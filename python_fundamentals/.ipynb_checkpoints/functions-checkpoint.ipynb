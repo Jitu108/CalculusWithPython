{
 "cells": [
  {
   "cell_type": "code",
   "execution_count": null,
   "id": "50a689de-c368-412a-bc2f-8aa66f8cb68c",
   "metadata": {},
   "outputs": [],
   "source": [
    "var = [10, 20, 30, 10.5]"
   ]
  },
  {
   "cell_type": "code",
   "execution_count": null,
   "id": "1e0a0ec6-9903-4a28-89e5-656e328e0d61",
   "metadata": {},
   "outputs": [],
   "source": [
    "sum(var)/len(var)"
   ]
  },
  {
   "cell_type": "code",
   "execution_count": null,
   "id": "04c4974e-ef0b-4e54-a1a3-f73a69e96d1c",
   "metadata": {},
   "outputs": [],
   "source": [
    "import numpy as np\n",
    "import math\n",
    "\n",
    "numbers = [1, 2, 3, 4, 5]\n",
    "\n",
    "np.mean(numbers)"
   ]
  },
  {
   "cell_type": "code",
   "execution_count": null,
   "id": "5a444172-5ddf-4c40-bc33-87782855400f",
   "metadata": {},
   "outputs": [],
   "source": [
    "np.linspace(1,7,9)"
   ]
  },
  {
   "cell_type": "code",
   "execution_count": null,
   "id": "a0153bb5-4334-4e10-bef6-d9f4f8681cca",
   "metadata": {},
   "outputs": [],
   "source": [
    "numbers_np = np.array(numbers)\n",
    "print(type(numbers))\n",
    "print(type(numbers_np))"
   ]
  },
  {
   "cell_type": "code",
   "execution_count": null,
   "id": "8ca8c06d-b52a-46cc-835f-2b4ece41c737",
   "metadata": {},
   "outputs": [],
   "source": [
    "np.identity(4)\n"
   ]
  },
  {
   "cell_type": "code",
   "execution_count": null,
   "id": "a959bcf0-a6c7-4393-861f-3918fb4acf98",
   "metadata": {},
   "outputs": [],
   "source": [
    "np.eye(3)\n"
   ]
  },
  {
   "cell_type": "code",
   "execution_count": null,
   "id": "ca8c1571-0b40-470e-9109-e5d8b0f0cf3b",
   "metadata": {},
   "outputs": [],
   "source": [
    "np.diag([1, 1, 1])"
   ]
  },
  {
   "cell_type": "code",
   "execution_count": null,
   "id": "21fe1d92-f706-42a9-ae58-08b9c637db71",
   "metadata": {},
   "outputs": [],
   "source": [
    "sum??"
   ]
  },
  {
   "cell_type": "code",
   "execution_count": null,
   "id": "8e23e926-5652-4298-9fe0-71acbeedb0b5",
   "metadata": {},
   "outputs": [],
   "source": [
    "help(sum)"
   ]
  },
  {
   "cell_type": "code",
   "execution_count": null,
   "id": "7915f67c-424a-4b2d-a1a5-e807b4f94c10",
   "metadata": {},
   "outputs": [],
   "source": [
    "np.linspace??"
   ]
  },
  {
   "cell_type": "code",
   "execution_count": null,
   "id": "748ed764-51d7-42e7-9c9a-1326479403b7",
   "metadata": {},
   "outputs": [],
   "source": [
    "print (__name__)"
   ]
  },
  {
   "cell_type": "code",
   "execution_count": null,
   "id": "518eee88-328f-46b4-8137-945d25892934",
   "metadata": {},
   "outputs": [],
   "source": [
    "def main():\n",
    "    print(\"Running main logic...\")\n",
    "\n",
    "if __name__ == \"__main__\":\n",
    "    main()"
   ]
  },
  {
   "cell_type": "code",
   "execution_count": null,
   "id": "a2be51c5-d89a-4e97-8e41-762a5ced8b78",
   "metadata": {},
   "outputs": [],
   "source": [
    "def sumAndProd(a, b) -> (int, int):\n",
    "    summ = a + b\n",
    "    prod = a * b\n",
    "    return summ, prod\n",
    "\n",
    "    "
   ]
  },
  {
   "cell_type": "code",
   "execution_count": null,
   "id": "791ab553-8819-4d58-9992-0190e8e9c9d4",
   "metadata": {},
   "outputs": [],
   "source": [
    "a, b = sumAndProd(2, 4)\n",
    "\n",
    "print (a, b)"
   ]
  },
  {
   "cell_type": "code",
   "execution_count": null,
   "id": "94aeb595-d218-4dd3-94d6-85a4af1fb485",
   "metadata": {},
   "outputs": [],
   "source": [
    "# lambda function\n",
    "\n",
    "test = lambda a, b: (a*b, a+b)"
   ]
  },
  {
   "cell_type": "code",
   "execution_count": null,
   "id": "040a4ae2-f32c-48b7-85c8-2676547ee269",
   "metadata": {},
   "outputs": [],
   "source": [
    "test(2,3)"
   ]
  },
  {
   "cell_type": "code",
   "execution_count": null,
   "id": "24fdc2f8-920e-4999-ae95-4ab44efedd39",
   "metadata": {},
   "outputs": [],
   "source": [
    "# Factorial\n",
    "\n",
    "def factorial(n):\n",
    "    # n1=1\n",
    "    # for a in range(1, n+1):\n",
    "    #     n1*=a\n",
    "    # return n1\n",
    "    np.prod(np.arange(1, n+1))\n",
    "    \n",
    "    "
   ]
  },
  {
   "cell_type": "code",
   "execution_count": null,
   "id": "19c3ec87-19fd-4fe5-b60f-5e35572ffe6b",
   "metadata": {},
   "outputs": [],
   "source": [
    "factorial(5)\n"
   ]
  },
  {
   "cell_type": "code",
   "execution_count": null,
   "id": "1d3d299f-cdbf-4e2a-8413-6a301b6dc84c",
   "metadata": {},
   "outputs": [],
   "source": [
    "math.factorial(15)"
   ]
  },
  {
   "cell_type": "code",
   "execution_count": 2,
   "id": "ba070ccd-e586-44fd-9d21-b4bd0d0d3d53",
   "metadata": {},
   "outputs": [],
   "source": [
    "# local scope\n",
    "# global scope\n",
    "\n",
    "def funfun():\n",
    "    x = 7\n",
    "    y = 10\n",
    "    print(x)"
   ]
  },
  {
   "cell_type": "code",
   "execution_count": 5,
   "id": "22ea49ee-caad-40f6-93f3-15036630e377",
   "metadata": {},
   "outputs": [
    {
     "name": "stdout",
     "output_type": "stream",
     "text": [
      "7\n"
     ]
    }
   ],
   "source": [
    "funfun()"
   ]
  },
  {
   "cell_type": "code",
   "execution_count": 9,
   "id": "1247c61c-bf89-4212-a7cd-90e4affc0933",
   "metadata": {},
   "outputs": [],
   "source": [
    "import numpy as np"
   ]
  },
  {
   "cell_type": "code",
   "execution_count": 12,
   "id": "0fc36f4a-8e56-4676-9ade-7d1fd0c0df2b",
   "metadata": {},
   "outputs": [
    {
     "data": {
      "text/plain": [
       "array([[-0.64467507,  1.66105553,  1.16569794],\n",
       "       [-0.58670864,  0.06200854,  2.1644891 ],\n",
       "       [ 1.14730663,  0.82647396,  0.40143645],\n",
       "       [-0.09403023, -1.47406548, -2.32025898],\n",
       "       [-0.41801203, -1.5419571 ,  0.53011186],\n",
       "       [-1.71309708, -1.15845882, -1.87618325],\n",
       "       [ 0.92724186, -0.48146331,  1.27883389]])"
      ]
     },
     "execution_count": 12,
     "metadata": {},
     "output_type": "execute_result"
    }
   ],
   "source": [
    "np.random.randn(7, 3)"
   ]
  },
  {
   "cell_type": "code",
   "execution_count": 13,
   "id": "d66a6075-adbb-4585-af3e-205a1c313922",
   "metadata": {},
   "outputs": [
    {
     "data": {
      "text/plain": [
       "array([[0.3937379 , 0.41968775, 0.4846161 ],\n",
       "       [0.68172338, 0.04119667, 0.6085753 ],\n",
       "       [0.32688273, 0.99692167, 0.85726372],\n",
       "       [0.38615222, 0.29547823, 0.10453991],\n",
       "       [0.42314184, 0.19267072, 0.93395066],\n",
       "       [0.21727486, 0.59910592, 0.59645625],\n",
       "       [0.24840646, 0.59968072, 0.93503349]])"
      ]
     },
     "execution_count": 13,
     "metadata": {},
     "output_type": "execute_result"
    }
   ],
   "source": [
    "np.random.rand(7, 3)"
   ]
  },
  {
   "cell_type": "code",
   "execution_count": 14,
   "id": "c81789c9-cf79-434d-8ae0-61a55bf8829b",
   "metadata": {},
   "outputs": [
    {
     "data": {
      "text/plain": [
       "array([7.53196896, 1.83413488, 1.37072634, 0.44048057, 8.32021954,\n",
       "       3.97353037, 4.29015562])"
      ]
     },
     "execution_count": 14,
     "metadata": {},
     "output_type": "execute_result"
    }
   ],
   "source": [
    "np.random.rand(7)*10"
   ]
  },
  {
   "cell_type": "code",
   "execution_count": 22,
   "id": "b949695d-57a0-43b2-b1e6-4f638ef0f606",
   "metadata": {},
   "outputs": [
    {
     "data": {
      "text/plain": [
       "array([17,  5, 13, 10,  2,  9,  4, 14,  1, 17, 18,  2,  4,  6,  7,  2,  2,\n",
       "        8,  3, 18, 14,  9, 13, 14, 16,  1,  8, 15,  5,  1, 17, 15, 11,  6,\n",
       "        9,  1,  7, 13,  1, 14, 19,  5,  4,  7, 10,  7, 10, 10, 17,  6,  7,\n",
       "       12, 18, 19, 12, 15, 13,  9, 10,  3, 10,  1,  9, 10, 17,  6,  4, 13,\n",
       "        4, 14,  2, 19,  5, 16,  7, 14,  4, 14, 19,  7, 17, 17,  4, 17,  4,\n",
       "       13, 10,  8, 18,  4,  6,  5,  6,  7,  2,  9, 13, 10,  9, 16])"
      ]
     },
     "execution_count": 22,
     "metadata": {},
     "output_type": "execute_result"
    }
   ],
   "source": [
    "np.random.randint(1, 20, 100)"
   ]
  },
  {
   "cell_type": "code",
   "execution_count": 26,
   "id": "733f06c0-6822-4fa4-a8e0-6af5d4b53bf5",
   "metadata": {},
   "outputs": [
    {
     "data": {
      "text/plain": [
       "array([2, 6, 0, 3, 5, 1])"
      ]
     },
     "execution_count": 26,
     "metadata": {},
     "output_type": "execute_result"
    }
   ],
   "source": [
    "list = [3, 5, 1, 0, 6, 2]\n",
    "np.random.choice(list, 6, replace=False)"
   ]
  },
  {
   "cell_type": "code",
   "execution_count": 28,
   "id": "30f3fcb8-d245-4447-92d3-23c581ebc01d",
   "metadata": {},
   "outputs": [
    {
     "data": {
      "text/plain": [
       "array([0.23617163, 2.55248276, 0.38025809, 6.02688239, 3.62401599,\n",
       "       2.84835206, 0.77836462, 4.80977187, 2.03898217, 3.43979305,\n",
       "       3.36108826, 1.9995491 , 0.7964769 , 2.64508175, 5.89967022,\n",
       "       4.29124772, 4.77907224, 2.92320802, 2.98973338, 4.77130214,\n",
       "       5.75892684, 2.02637354, 5.14855144, 4.20828482, 5.01814939,\n",
       "       4.79008474, 2.30842372, 5.76705113, 4.10178401, 6.07982745,\n",
       "       1.17729247, 2.69146375, 1.99171853, 5.53728652, 1.77171884,\n",
       "       2.97696184, 1.17729339, 6.2142971 , 1.93856101, 5.70061021,\n",
       "       4.4488    , 2.58622508, 1.9416699 , 1.18846717, 1.28615663,\n",
       "       0.09953836, 0.25178371, 3.10866051, 0.31552732, 2.05986728,\n",
       "       3.88306674, 1.76176644, 4.71942602, 1.97831726, 5.21456396,\n",
       "       2.12543118, 1.72674817, 3.38424143, 2.84031894, 5.28060494,\n",
       "       2.52647598, 1.18260651, 2.65751381, 1.85532602, 4.33304332,\n",
       "       4.39290931, 3.18479727, 5.10930885, 4.89268641, 1.58995629,\n",
       "       2.61624711, 3.64285659, 0.61882397, 2.75943824, 4.61000189,\n",
       "       6.01600649, 3.74575155, 0.16789621, 2.60292322, 6.02939749,\n",
       "       3.23324509, 4.7733491 , 6.26591656, 0.38587496, 4.44754747,\n",
       "       4.02488453, 3.47746955, 4.70441768, 1.33605978, 3.74088448,\n",
       "       5.80384353, 0.9255814 , 3.90208561, 5.30953247, 0.02917224,\n",
       "       0.69657009, 0.46289218, 4.96208785, 0.04616083, 1.30024636])"
      ]
     },
     "execution_count": 28,
     "metadata": {},
     "output_type": "execute_result"
    }
   ],
   "source": [
    "# generate 100 random phase angles (between 0 and 2pi)\n",
    "\n",
    "np.random.rand(100)*2*np.pi"
   ]
  },
  {
   "cell_type": "code",
   "execution_count": 29,
   "id": "90d27556-d611-4650-9ca8-2ff28e129c9d",
   "metadata": {},
   "outputs": [
    {
     "data": {
      "text/plain": [
       "array([0.2923178 , 2.43476323, 5.57463251, 5.45206802, 6.22256073,\n",
       "       1.82040632, 5.77234331, 1.06278711, 0.61436553, 3.71729809,\n",
       "       4.38321042, 3.57938958, 3.00172737, 6.03843715, 3.01494424,\n",
       "       5.6003307 , 5.58305485, 5.30931928, 0.89171787, 4.26326035,\n",
       "       0.42121452, 2.66946471, 3.53875565, 0.79807764, 1.98852002,\n",
       "       2.99815341, 0.41957191, 4.53983662, 0.19967706, 0.32490095,\n",
       "       4.45079983, 3.38295931, 4.2052789 , 3.51897959, 1.84679273,\n",
       "       4.7749485 , 4.29335685, 6.17568311, 5.30778822, 5.35764416,\n",
       "       4.28879904, 3.02152434, 2.29626475, 2.27307501, 2.23542504,\n",
       "       0.17965531, 4.14557957, 4.30528028, 0.85375386, 2.93823306,\n",
       "       4.98189101, 1.88531991, 1.41114952, 4.16155094, 0.18655993,\n",
       "       2.05209006, 1.60852319, 1.35421607, 4.21868688, 3.22041991,\n",
       "       6.04076781, 2.5071563 , 5.91564508, 5.93849517, 1.11292773,\n",
       "       2.94612978, 4.43462736, 0.4187054 , 1.91081811, 5.75094874,\n",
       "       0.19860494, 3.55699204, 4.94960925, 2.67001479, 0.36307944,\n",
       "       2.62419567, 2.92622219, 1.02945776, 0.75092994, 1.39652855,\n",
       "       3.04324395, 1.68203961, 0.83254366, 6.06396632, 3.24520233,\n",
       "       3.81192932, 4.28657882, 3.4119176 , 2.65333946, 1.18029192,\n",
       "       2.2253895 , 5.22899372, 2.44140315, 2.00980704, 0.18974969,\n",
       "       5.14826925, 1.36580531, 5.98523197, 4.25542316, 2.16647874])"
      ]
     },
     "execution_count": 29,
     "metadata": {},
     "output_type": "execute_result"
    }
   ],
   "source": [
    "np.random.uniform(low=0, high=2*np.pi, size=100)"
   ]
  },
  {
   "cell_type": "code",
   "execution_count": null,
   "id": "a9e96b00-695f-4922-b81e-c834998abfda",
   "metadata": {},
   "outputs": [],
   "source": []
  }
 ],
 "metadata": {
  "kernelspec": {
   "display_name": "Python 3 (ipykernel)",
   "language": "python",
   "name": "python3"
  },
  "language_info": {
   "codemirror_mode": {
    "name": "ipython",
    "version": 3
   },
   "file_extension": ".py",
   "mimetype": "text/x-python",
   "name": "python",
   "nbconvert_exporter": "python",
   "pygments_lexer": "ipython3",
   "version": "3.11.14"
  }
 },
 "nbformat": 4,
 "nbformat_minor": 5
}
