{
 "cells": [
  {
   "cell_type": "markdown",
   "metadata": {
    "id": "bhWV8oes-wKR"
   },
   "source": [
    "# COURSE: Master calculus 1 using Python: derivatives and applications\n",
    "## SECTION: Differentiation fundamentals\n",
    "### LECTURE: CodeChallenge: trig derivatives\n",
    "#### TEACHER: Mike X Cohen, sincxpress.com\n",
    "##### COURSE URL: udemy.com/course/pycalc_x/?couponCode=202108"
   ]
  },
  {
   "cell_type": "code",
   "execution_count": null,
   "metadata": {
    "id": "ISP-GVN4akWn"
   },
   "outputs": [],
   "source": []
  },
  {
   "cell_type": "code",
   "execution_count": null,
   "metadata": {
    "id": "azC3mVQtaqsE"
   },
   "outputs": [],
   "source": [
    "import numpy as np\n",
    "import sympy as sym\n",
    "import matplotlib.pyplot as plt\n",
    "\n",
    "# better image resolution\n",
    "from IPython import display\n",
    "display.set_matplotlib_formats('svg')"
   ]
  },
  {
   "cell_type": "code",
   "execution_count": null,
   "metadata": {
    "id": "gMydifu2aqvL"
   },
   "outputs": [],
   "source": []
  },
  {
   "cell_type": "markdown",
   "metadata": {
    "id": "l9bjNf5haqyT"
   },
   "source": [
    "# Exercise 1: d/dx cos(x)"
   ]
  },
  {
   "cell_type": "code",
   "execution_count": null,
   "metadata": {
    "id": "rXDzzpKLaq1S"
   },
   "outputs": [],
   "source": [
    "dx = .01\n",
    "x = np.arange(-1.5*np.pi,1.5*np.pi,step=dx)\n",
    "\n",
    "# define the function and its difference (same as derivative?)\n",
    "fx  = np.cos(x)\n",
    "dfx = np.diff(fx) / dx\n",
    "\n",
    "\n",
    "plt.figure(figsize=(8,5))\n",
    "plt.plot(x,fx,label='cos(x)',linewidth=2)\n",
    "plt.plot(x[:-1],dfx,label='diff(cos(x))',linewidth=2)\n",
    "plt.plot(x[::20],-np.sin(x[::20]),'o',label='-sin(x)')\n",
    "\n",
    "plt.legend()\n",
    "plt.xticks([-np.pi,-np.pi/2,0,np.pi/2,np.pi],labels=[r'$-\\pi$',r'$-\\pi/2$','0',r'$\\pi/2$',r'$\\pi$'])\n",
    "plt.xlabel('Angle (rad.)')\n",
    "plt.xlim(x[[0,-1]])\n",
    "plt.show()"
   ]
  },
  {
   "cell_type": "code",
   "execution_count": null,
   "metadata": {
    "id": "YItufyLcaq4L"
   },
   "outputs": [],
   "source": []
  },
  {
   "cell_type": "markdown",
   "metadata": {
    "id": "hdoLG0mVaq7T"
   },
   "source": [
    "# Exercise 2: d/dx sin(x)"
   ]
  },
  {
   "cell_type": "code",
   "execution_count": null,
   "metadata": {
    "id": "0Dyypzagaq-b"
   },
   "outputs": [],
   "source": [
    "dx = .01\n",
    "x = np.arange(-1.5*np.pi,1.5*np.pi,step=dx)\n",
    "\n",
    "# define the function and its difference (same as derivative?)\n",
    "fx  = np.sin(x)\n",
    "dfx = np.diff(fx) / dx\n",
    "\n",
    "\n",
    "plt.figure(figsize=(8,5))\n",
    "plt.plot(x,fx,label='sin(x)',linewidth=2)\n",
    "plt.plot(x[:-1],dfx,label='diff(sin(x))',linewidth=2)\n",
    "plt.plot(x[::20],np.cos(x[::20]),'o',label='cos(x)')\n",
    "\n",
    "plt.legend()\n",
    "plt.xticks([-np.pi,-np.pi/2,0,np.pi/2,np.pi],labels=[r'$-\\pi$',r'$-\\pi/2$','0',r'$\\pi/2$',r'$\\pi$'])\n",
    "plt.xlabel('Angle (rad.)')\n",
    "plt.xlim(x[[0,-1]])\n",
    "plt.show()"
   ]
  },
  {
   "cell_type": "code",
   "execution_count": null,
   "metadata": {
    "id": "WD0APLKFarBa"
   },
   "outputs": [],
   "source": []
  },
  {
   "cell_type": "markdown",
   "metadata": {
    "id": "jZ6QQ3ZbarES"
   },
   "source": [
    "# Exercise 3: Cyclicity of trig derivatives"
   ]
  },
  {
   "cell_type": "code",
   "execution_count": null,
   "metadata": {
    "id": "vJLVOhSKarG6"
   },
   "outputs": [],
   "source": [
    "# symbolic variable\n",
    "x = sym.symbols('x')\n",
    "\n",
    "# start with cos\n",
    "f = sym.cos(x)\n",
    "\n",
    "# cycle through\n",
    "for i in range(4):\n",
    "  print(f\"({f})' = {sym.diff(f)}\")\n",
    "  f = sym.diff(f)"
   ]
  },
  {
   "cell_type": "code",
   "execution_count": null,
   "metadata": {
    "id": "eGLNZuvWhiDj"
   },
   "outputs": [],
   "source": []
  },
  {
   "cell_type": "markdown",
   "metadata": {
    "id": "iCaUQR7miDXl"
   },
   "source": [
    "# Exercise 4: cyclic inverse trig derivatives"
   ]
  },
  {
   "cell_type": "code",
   "execution_count": null,
   "metadata": {
    "id": "5ZXUb1kWhiP9"
   },
   "outputs": [],
   "source": [
    "# start with acos\n",
    "f = sym.acos(x)\n",
    "\n",
    "# cycle through\n",
    "for i in range(4):\n",
    "  print(f\"({f})' = {sym.diff(f)}\")\n",
    "  f = sym.diff(f)"
   ]
  },
  {
   "cell_type": "code",
   "execution_count": null,
   "metadata": {
    "id": "wPTLzHyAhiVd"
   },
   "outputs": [],
   "source": []
  }
 ],
 "metadata": {
  "colab": {
   "authorship_tag": "ABX9TyNewOiRKC0285BR+HaVPM3Q",
   "collapsed_sections": [],
   "name": "pycalc_differentiation_trigNumpy.ipynb",
   "provenance": []
  },
  "kernelspec": {
   "display_name": "Python 3 (ipykernel)",
   "language": "python",
   "name": "python3"
  },
  "language_info": {
   "codemirror_mode": {
    "name": "ipython",
    "version": 3
   },
   "file_extension": ".py",
   "mimetype": "text/x-python",
   "name": "python",
   "nbconvert_exporter": "python",
   "pygments_lexer": "ipython3",
   "version": "3.11.14"
  }
 },
 "nbformat": 4,
 "nbformat_minor": 4
}
